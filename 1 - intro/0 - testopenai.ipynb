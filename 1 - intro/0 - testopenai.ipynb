{
 "cells": [
  {
   "cell_type": "code",
   "execution_count": 1,
   "metadata": {},
   "outputs": [],
   "source": [
    "from openai import OpenAI\n",
    "from dotenv import load_dotenv\n",
    "load_dotenv()\n",
    "import os"
   ]
  },
  {
   "cell_type": "code",
   "execution_count": 2,
   "metadata": {},
   "outputs": [],
   "source": [
    "client = OpenAI(api_key=os.environ.get('OPENAI_API_KEY'))"
   ]
  },
  {
   "cell_type": "code",
   "execution_count": 3,
   "metadata": {},
   "outputs": [],
   "source": [
    "response = client.chat.completions.create(\n",
    "        model='gpt-4o',\n",
    "        messages=[{\"role\": \"user\", \"content\": \"is it to late to join the course?\"}]\n",
    "    )"
   ]
  },
  {
   "cell_type": "code",
   "execution_count": 4,
   "metadata": {},
   "outputs": [
    {
     "name": "stdout",
     "output_type": "stream",
     "text": [
      "Whether it's too late to join a course depends on several factors, including the start date of the course, its duration, and the specific enrollment policies of the institution offering it. Here are some steps you can take to determine if you can still join:\n",
      "\n",
      "1. **Check the Enrollment Deadline:** Review the course information or contact the institution to find out the official enrollment deadline.\n",
      "\n",
      "2. **Contact the Institution or Instructor:** Sometimes, you might be able to join late if you receive approval from the instructor or the administration. They may allow late enrollment on a case-by-case basis.\n",
      "\n",
      "3. **Assess Course Progression:** Consider how much of the course you will have missed and whether you can realistically catch up on any missed assignments, lectures, or exams.\n",
      "\n",
      "4. **Online or Self-paced Courses:** Some online or self-paced courses offer rolling admissions or flexible start dates, allowing you to join at any time.\n",
      "\n",
      "5. **Waitlist Options:** If the course is full or the enrollment window has closed, inquire if there's a waitlist you can join in case a spot opens up.\n",
      "\n",
      "Reach out directly to the course provider for the most accurate and current information regarding enrollment.\n"
     ]
    }
   ],
   "source": [
    "print(response.choices[0].message.content)"
   ]
  }
 ],
 "metadata": {
  "kernelspec": {
   "display_name": "venv",
   "language": "python",
   "name": "python3"
  },
  "language_info": {
   "codemirror_mode": {
    "name": "ipython",
    "version": 3
   },
   "file_extension": ".py",
   "mimetype": "text/x-python",
   "name": "python",
   "nbconvert_exporter": "python",
   "pygments_lexer": "ipython3",
   "version": "3.8.10"
  }
 },
 "nbformat": 4,
 "nbformat_minor": 2
}
