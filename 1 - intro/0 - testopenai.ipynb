{
 "cells": [
  {
   "cell_type": "code",
   "execution_count": 1,
   "metadata": {},
   "outputs": [],
   "source": [
    "from openai import OpenAI\n",
    "from dotenv import load_dotenv\n",
    "load_dotenv()\n",
    "import os"
   ]
  },
  {
   "cell_type": "code",
   "execution_count": 2,
   "metadata": {},
   "outputs": [],
   "source": [
    "client = OpenAI(api_key=os.environ.get('OPENAI_API_KEY'))"
   ]
  },
  {
   "cell_type": "code",
   "execution_count": 3,
   "metadata": {},
   "outputs": [],
   "source": [
    "response = client.chat.completions.create(\n",
    "        model='gpt-4o',\n",
    "        messages=[{\"role\": \"user\", \"content\": \"is it to late to join the course?\"}]\n",
    "    )"
   ]
  },
  {
   "cell_type": "code",
   "execution_count": 5,
   "metadata": {},
   "outputs": [
    {
     "name": "stdout",
     "output_type": "stream",
     "text": [
      "I'm not sure which course you're referring to, but generally speaking, whether it's too late to join a course depends on a few factors:\n",
      "\n",
      "1. **Enrollment Deadlines:** Check if the course has a specific enrollment deadline. Some courses allow late registration with permission from the instructor or administration.\n",
      "\n",
      "2. **Course Progress:** Consider how far along the course is. If it's just started, it might be easier to catch up than if it's halfway through.\n",
      "\n",
      "3. **Format:** For online courses or those with flexible schedules, you might have more leeway to join late and catch up at your own pace.\n",
      "\n",
      "4. **Instructor Policies:** Reach out to the instructor or course coordinator to inquire about late enrollment and any potential impact on your ability to keep up with the course content.\n",
      "\n",
      "5. **Your Schedule:** Consider if you have the time and resources to commit to catching up, especially if the course is intensive.\n",
      "\n",
      "If you provide more details about the specific course or institution, I might be able to give more tailored advice.\n"
     ]
    }
   ],
   "source": [
    "print(response.choices[0].message.content)"
   ]
  }
 ],
 "metadata": {
  "kernelspec": {
   "display_name": "venv",
   "language": "python",
   "name": "python3"
  },
  "language_info": {
   "codemirror_mode": {
    "name": "ipython",
    "version": 3
   },
   "file_extension": ".py",
   "mimetype": "text/x-python",
   "name": "python",
   "nbconvert_exporter": "python",
   "pygments_lexer": "ipython3",
   "version": "3.8.10"
  }
 },
 "nbformat": 4,
 "nbformat_minor": 2
}
